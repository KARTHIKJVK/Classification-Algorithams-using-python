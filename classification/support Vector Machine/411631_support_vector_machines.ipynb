{
 "cells": [
  {
   "cell_type": "code",
   "execution_count": 3,
   "metadata": {},
   "outputs": [
    {
     "name": "stdout",
     "output_type": "stream",
     "text": [
      "[[1 1 2 3 3 2]\n",
      " [1 1 3 1 3 2]\n",
      " [1 1 3 1 4 1]\n",
      " ...\n",
      " [2 2 4 8 6 4]\n",
      " [2 2 4 8 6 5]\n",
      " [2 2 4 8 7 3]]\n",
      "['fourteen']\n"
     ]
    }
   ],
   "source": [
    "#import sys\n",
    "#!{sys.executable} -m pip install matplotlib\n",
    "import numpy as np \n",
    "import pandas as pd \n",
    "import matplotlib.pyplot as plt \n",
    "  \n",
    "# reading csv file and extracting class column to y. \n",
    "balance_data = pd.read_csv( '/home/karthik/anaconda_python/411631_kelab_record/411631_python_using/classification/support Vector Machine/chess.txt', sep= ',') \n",
    "      \n",
    "new_data = {\"wk_c\":{\"a\":1,\"b\":2,\"c\":3,\"d\":4,\"e\":5,\"f\":6,\"g\":7,\"h\":8},\n",
    "                 \"wr_c\":{\"a\":1,\"b\":2,\"c\":3,\"d\":4,\"e\":5,\"f\":6,\"g\":7,\"h\":8},\n",
    "                 \"bk_c\":{\"a\":1,\"b\":2,\"c\":3,\"d\":4,\"e\":5,\"f\":6,\"g\":7,\"h\":8}}\n",
    "balance_data.replace(new_data,inplace=True)\n",
    " \n",
    "a = np.array(balance_data)\n",
    "x = a[:,:6]\n",
    "y  = a[:,6] # classes having 0 and 1 \n",
    "print(x)\n",
    "\n",
    "# import support vector classifier \n",
    "from sklearn.svm import SVC # \"Support Vector Classifier\" \n",
    "clf = SVC(kernel='linear') \n",
    "  \n",
    "# fitting x samples and y classes \n",
    "clf.fit(x, y) \n",
    "\n",
    "#After being fitted, the model can then be used to predict new values:\n",
    "print(clf.predict([[1, 3, 3, 4, 4, 1]]))"
   ]
  },
  {
   "cell_type": "code",
   "execution_count": null,
   "metadata": {},
   "outputs": [],
   "source": []
  }
 ],
 "metadata": {
  "kernelspec": {
   "display_name": "Python 3",
   "language": "python",
   "name": "python3"
  },
  "language_info": {
   "codemirror_mode": {
    "name": "ipython",
    "version": 3
   },
   "file_extension": ".py",
   "mimetype": "text/x-python",
   "name": "python",
   "nbconvert_exporter": "python",
   "pygments_lexer": "ipython3",
   "version": "3.6.5"
  }
 },
 "nbformat": 4,
 "nbformat_minor": 2
}
